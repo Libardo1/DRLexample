{
 "cells": [
  {
   "cell_type": "markdown",
   "metadata": {},
   "source": [
    "# TF FrozenLake"
   ]
  },
  {
   "cell_type": "code",
   "execution_count": 1,
   "metadata": {
    "collapsed": false
   },
   "outputs": [
    {
     "name": "stderr",
     "output_type": "stream",
     "text": [
      "[2017-04-30 22:28:46,624] Making new env: FrozenLake-v0\n"
     ]
    }
   ],
   "source": [
    "import gym\n",
    "import numpy as np\n",
    "import random\n",
    "import tensorflow as tf\n",
    "import matplotlib.pyplot as plt\n",
    "%matplotlib inline\n",
    "env = gym.make('FrozenLake-v0')"
   ]
  },
  {
   "cell_type": "code",
   "execution_count": 2,
   "metadata": {
    "collapsed": true
   },
   "outputs": [],
   "source": [
    "num_states = env.observation_space.n\n",
    "num_actions = env.action_space.n\n",
    "learning_rate = 0.1\n",
    "gamma = 0.99\n",
    "epsilon= 0.1\n",
    "num_episodes = 2000\n",
    "count_list = []\n",
    "reward_list = []"
   ]
  },
  {
   "cell_type": "code",
   "execution_count": 3,
   "metadata": {
    "collapsed": false
   },
   "outputs": [],
   "source": [
    "graph = tf.Graph()\n",
    "with graph.as_default():\n",
    "    state_inputs = tf.placeholder(shape=[1,16],dtype=tf.float32)\n",
    "    weights = tf.Variable(tf.random_uniform([16,4],0,0.01))\n",
    "    Qout = tf.matmul(state_inputs,weights)\n",
    "    predict = tf.argmax(Qout,1)\n",
    "    nextQ = tf.placeholder(shape=[1,4],dtype=tf.float32)\n",
    "    loss = tf.reduce_sum(tf.square(nextQ - Qout))\n",
    "    optimizer = tf.train.GradientDescentOptimizer(learning_rate)\n",
    "    opt = optimizer.minimize(loss)"
   ]
  },
  {
   "cell_type": "markdown",
   "metadata": {},
   "source": [
    "Given a transition $< s, a, r, s^{\\prime} >$, the Q-table update rule in\n",
    "the previous algorithm must be replaced with the\n",
    "following:\n",
    "\n",
    "1) Do a feedforward pass for the current state s to get predicted Q-values for all actions.\n",
    "\n",
    "2) Do a feedforward pass for the next state s’ and calculate maximum overall network outputs $max_{a^{\\prime}}Q(s^{\\prime}, a^{\\prime})$.\n",
    "\n",
    "3) Set Q-value target for action to $r + \\gamma max_{a^{\\prime}}Q(s^{\\prime}, a^{\\prime})$ (use the max calculated in step 2).\n",
    "\n",
    "4) For all other actions, set the Q-value target to the same as originally returned from step 1, making the error 0 for those outputs.\n",
    "\n",
    "5) Update the weights using backpropagation."
   ]
  },
  {
   "cell_type": "markdown",
   "metadata": {},
   "source": [
    "Assim, em $s$\n",
    "\n",
    "1) Pegamos $Q(s)$.\n",
    "\n",
    "2) Com probabilidade $\\epsilon$ temos que $a\\leftarrow random\\_action$. Com probabilidade $1 -\\epsilon$ temos que $a\\leftarrow arg max_a Q(s, a)$.\n",
    "\n",
    "3) Executar $a$ e obter $r$ e $s^{\\prime}$.\n",
    "\n",
    "4) $max Q(s^{\\prime})$.\n",
    "\n",
    "5) $TargetQ \\leftarrow Q(s)$, $TargetQ[a] \\leftarrow r + \\gamma max Q(s^{\\prime})$. \n",
    "\n",
    "6) Minimizar $loss = \\sum(TargetQ - Q(s))$.\n"
   ]
  },
  {
   "cell_type": "code",
   "execution_count": 4,
   "metadata": {
    "collapsed": false
   },
   "outputs": [
    {
     "name": "stdout",
     "output_type": "stream",
     "text": [
      "Percent of succesful episodes: 0.405%\n"
     ]
    }
   ],
   "source": [
    "with tf.Session(graph=graph) as sess:\n",
    "    tf.global_variables_initializer().run()\n",
    "    for i in range(num_episodes):\n",
    "        #Reset environment and get first new observation\n",
    "        state = env.reset()\n",
    "        All_reward = 0\n",
    "        terminate_signal = False\n",
    "        count = 0\n",
    "        #The Q-Network\n",
    "        while count < 99:\n",
    "            count+=1\n",
    "            one_hot_state = np.identity(16)[state:state+1] \n",
    "            a,Q_state_actions = sess.run([predict,Qout],feed_dict={state_inputs:one_hot_state})\n",
    "            action = a[0]\n",
    "            if np.random.rand(1) < epsilon:\n",
    "                action = env.action_space.sample()\n",
    "            state_prime,reward,terminate_signal,_ = env.step(action)\n",
    "            one_hot_state_prime = np.identity(16)[state_prime:state_prime+1]\n",
    "            Q_state_prime_actions = sess.run(Qout,feed_dict={state_inputs:one_hot_state_prime})\n",
    "            max_value_in_prime = np.max(Q_state_prime_actions) \n",
    "            targetQ = Q_state_actions\n",
    "            targetQ[0,action] = reward + gamma*max_value_in_prime\n",
    "            _,W = sess.run([opt,weights],feed_dict={state_inputs:one_hot_state,nextQ:targetQ})\n",
    "            All_reward += reward\n",
    "            state = state_prime\n",
    "            if terminate_signal == True:\n",
    "                epsilon = 1./((i/50) + 10)\n",
    "                break\n",
    "        count_list.append(count)\n",
    "        reward_list.append(reward)\n",
    "print(\"Percent of succesful episodes: \" + str(np.mean(reward_list)*100 + \"%\")"
   ]
  },
  {
   "cell_type": "markdown",
   "metadata": {},
   "source": [
    "### Some statistics on network performance\n",
    "\n",
    "We can see that the network beings to consistly reach the goal around the 750 episode mark."
   ]
  },
  {
   "cell_type": "code",
   "execution_count": 7,
   "metadata": {
    "collapsed": false
   },
   "outputs": [
    {
     "data": {
      "text/plain": [
       "[<matplotlib.lines.Line2D at 0x7f38d84fb278>]"
      ]
     },
     "execution_count": 7,
     "metadata": {},
     "output_type": "execute_result"
    },
    {
     "data": {
      "image/png": "[encoded data removed]",
      "text/plain": [
       "<matplotlib.figure.Figure at 0x7f38d856b240>"
      ]
     },
     "metadata": {},
     "output_type": "display_data"
    }
   ],
   "source": [
    "plt.plot(reward_list)"
   ]
  },
  {
   "cell_type": "markdown",
   "metadata": {},
   "source": [
    "It also begins to progress through the environment for longer than chance aroudn the 750 mark as well."
   ]
  },
  {
   "cell_type": "code",
   "execution_count": 6,
   "metadata": {
    "collapsed": false
   },
   "outputs": [
    {
     "data": {
      "text/plain": [
       "[<matplotlib.lines.Line2D at 0x7f38d8504160>]"
      ]
     },
     "execution_count": 6,
     "metadata": {},
     "output_type": "execute_result"
    },
    {
     "data": {
      "image/png": "[encoded data removed]",
      "text/plain": [
       "<matplotlib.figure.Figure at 0x7f38d85a9358>"
      ]
     },
     "metadata": {},
     "output_type": "display_data"
    }
   ],
   "source": [
    "plt.plot(count_list)"
   ]
  }
 ],
 "metadata": {
  "kernelspec": {
   "display_name": "Python 3",
   "language": "python",
   "name": "python3"
  },
  "language_info": {
   "codemirror_mode": {
    "name": "ipython",
    "version": 3
   },
   "file_extension": ".py",
   "mimetype": "text/x-python",
   "name": "python",
   "nbconvert_exporter": "python",
   "pygments_lexer": "ipython3",
   "version": "3.5.2"
  }
 },
 "nbformat": 4,
 "nbformat_minor": 1
}
